{
  "nbformat": 4,
  "nbformat_minor": 0,
  "metadata": {
    "colab": {
      "name": "Image_scrape.ipynb",
      "provenance": [],
      "authorship_tag": "ABX9TyNL5nufMQzbji7C/htV0P03",
      "include_colab_link": true
    },
    "kernelspec": {
      "name": "python3",
      "display_name": "Python 3"
    }
  },
  "cells": [
    {
      "cell_type": "markdown",
      "metadata": {
        "id": "view-in-github",
        "colab_type": "text"
      },
      "source": [
        "<a href=\"https://colab.research.google.com/github/poorvitiwary/Computer_vision_Age/blob/main/Image_scrape.ipynb\" target=\"_parent\"><img src=\"https://colab.research.google.com/assets/colab-badge.svg\" alt=\"Open In Colab\"/></a>"
      ]
    },
    {
      "cell_type": "code",
      "metadata": {
        "id": "jVB00RTHoshs"
      },
      "source": [
        "import requests\n",
        "from PIL import Image\n",
        "from io import BytesIO\n",
        "\n",
        "# Using Bing Search v7 resource on Azure\n",
        "# Collecting images based on a range of ages\n",
        "# Ranges used:\n",
        "# New born - 1-4\n",
        "# Toddler - 5-10\n",
        "# Adolescent - 11-24\n",
        "# Adult - 25-49\n",
        "# Middle age - 50-64\n",
        "# Old age - 65 and above\n",
        "# In order to diversify the dataset ang extract new and varying features among people\n",
        "# different ethic races and regions have also been included\n",
        "# Different regions of people:\n",
        "# Indian\n",
        "# Chinese\n",
        "# Korean\n",
        "# Japanese\n",
        "# American\n",
        "# African\n",
        "# British\n",
        "# Dutch\n",
        "# German\n",
        "# Balkan\n",
        "# Russian\n",
        "\n",
        "subscription_key = \"d89f21b980e2419389b23c09ae6c58e6\"\n",
        "search_url = \"https://api.bing.microsoft.com/v7.0/images/search\"\n",
        "search_term = \"Dutch woman\"\n",
        "headers = {\"Ocp-Apim-Subscription-Key\" : subscription_key}\n",
        "for i in range(len(search_term)):\n",
        "  params  = {\"q\": search_term, \"license\": \"public\", \"imageType\": \"photo\", \"count\":150}\n",
        "\n",
        "# Count parameter as seen in documentation, can be set to a max of 150 \n",
        "\n",
        "response = requests.get(search_url, headers=headers, params=params)\n",
        "response.raise_for_status()\n",
        "\n",
        "searchResults = response.json()\n",
        "\n",
        "urls = [ img['thumbnailUrl'] for img in searchResults[\"value\"][:50]]\n",
        "# print(urls)\n",
        "\n",
        "all_images = []\n",
        "fname = 0\n",
        "for url in urls:\n",
        "  image = requests.get(url)\n",
        "  image.raise_for_status()\n",
        "  img = Image.open(BytesIO(image.content)).convert('RGBA')\n",
        "  all_images.append(img)\n",
        "  with open('old_woman_' + str(fname) + '.png','wb') as f:\n",
        "      xyz = bytearray(image.content)\n",
        "      f.write(xyz)\n",
        "      fname += 1"
      ],
      "execution_count": 17,
      "outputs": []
    }
  ]
}